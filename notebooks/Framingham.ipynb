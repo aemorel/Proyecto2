{
 "cells": [
  {
   "cell_type": "markdown",
   "metadata": {},
   "source": [
    "## **Sobre el Dataset: [Framingham Heart Study](https://www.kaggle.com/datasets/shreyjain601/framingham-heart-study)**\n",
    "\n",
    "Este dataset se basa en el reconocido estudio de Framingham, uno de los más influyentes en el campo de las enfermedades cardiovasculares. Contiene datos clínicos y demográficos de pacientes, utilizados para predecir el riesgo de desarrollar enfermedades cardíacas en función de diversos factores.\n",
    "\n",
    "### **Contexto**\n",
    "El estudio de Framingham se inició en 1948 en la ciudad de Framingham, Massachusetts, y ha sido fundamental para identificar factores de riesgo cardiovascular como el tabaquismo, la hipertensión y el colesterol elevado. Este dataset sintetiza los datos más relevantes para fines educativos y de análisis predictivo.\n",
    "\n",
    "---\n",
    "\n",
    "## **Diccionario de Datos**\n",
    "\n",
    "- **male**: Género del paciente (1 para masculino, 0 para femenino).\n",
    "\n",
    "- **age**: Edad del paciente en años.\n",
    "\n",
    "- **education**: Nivel educativo del paciente (categoría 1 a 4).\n",
    "\n",
    "- **currentSmoker**: Indica si el paciente es fumador activo (1 para sí, 0 para no).\n",
    "\n",
    "- **cigsPerDay**: Promedio de cigarrillos fumados por día.\n",
    "\n",
    "- **BPMeds**: Uso de medicamentos para controlar la presión arterial (1 para sí, 0 para no).\n",
    "\n",
    "- **prevalentStroke**: Indica si el paciente ha tenido un accidente cerebrovascular (1 para sí, 0 para no).\n",
    "\n",
    "- **prevalentHyp**: Indica si el paciente tiene hipertensión (1 para sí, 0 para no).\n",
    "\n",
    "- **diabetes**: Indica si el paciente tiene diabetes (1 para sí, 0 para no).\n",
    "\n",
    "- **totChol**: Nivel total de colesterol (mg/dL).\n",
    "\n",
    "- **sysBP**: Presión arterial sistólica (mmHg).\n",
    "\n",
    "- **diaBP**: Presión arterial diastólica (mmHg).\n",
    "\n",
    "- **BMI**: Índice de masa corporal.\n",
    "\n",
    "- **heartRate**: Frecuencia cardíaca (latidos por minuto).\n",
    "\n",
    "- **glucose**: Nivel de glucosa en sangre.\n",
    "\n",
    "- **TenYearCHD**: Indicador de enfermedad coronaria a 10 años (1 para desarrollar, 0 para no desarrollar).\n",
    "\n",
    "---\n",
    "\n",
    "**Observaciones, advertencias y descargos de responsabilidad**\n",
    "1. Este dataset es una representación simplificada de los datos originales y debe utilizarse únicamente con fines educativos.\n",
    "2. No debe emplearse para diagnósticos médicos reales ni para investigaciones clínicas formales.\n",
    "3. Los datos fueron organizados y publicados por [Shrey Jain](https://www.kaggle.com/shreyjain601), basados en el formato del estudio original."
   ]
  }
 ],
 "metadata": {
  "language_info": {
   "name": "python"
  }
 },
 "nbformat": 4,
 "nbformat_minor": 2
}
