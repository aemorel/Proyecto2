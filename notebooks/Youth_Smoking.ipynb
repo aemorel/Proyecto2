{
 "cells": [
  {
   "cell_type": "markdown",
   "metadata": {},
   "source": [
    "## **Sobre el Dataset: [Youth Smoking and Drug Dataset](https://www.kaggle.com/datasets/waqi786/youth-smoking-and-drug-dataset)**\n",
    "\n",
    "Este dataset se centra en el comportamiento de los jóvenes en relación con el tabaquismo y el uso de drogas. Contiene información detallada sobre factores demográficos, consumo de sustancias y actitudes relacionadas, lo que lo convierte en una valiosa herramienta para explorar patrones de comportamiento juvenil y desarrollar estrategias preventivas basadas en datos.\n",
    "\n",
    "### **Contexto**\n",
    "El dataset fue diseñado para investigar las tendencias y factores asociados al consumo de sustancias entre jóvenes. Ofrece datos clave que pueden ser utilizados en estudios sociológicos, de salud pública y de políticas preventivas. Su propósito principal es educativo y analítico, proporcionando una base sólida para aplicar técnicas de ciencia de datos y machine learning en el análisis de problemas sociales.\n",
    "\n",
    "---\n",
    "\n",
    "## **Diccionario de Datos**\n",
    "\n",
    "- **Age**: Edad del individuo.\n",
    "\n",
    "- **Gender**: Género del individuo (masculino/femenino).\n",
    "\n",
    "- **SmokingFrequency**: Frecuencia con la que el individuo fuma (diario/ocasional/nunca).\n",
    "\n",
    "- **AlcoholConsumption**: Nivel de consumo de alcohol (alto/moderado/bajo).\n",
    "\n",
    "- **DrugUse**: Indica si el individuo ha usado drogas (sí/no).\n",
    "\n",
    "- **ParentalSupervision**: Nivel de supervisión parental percibido (alto/bajo).\n",
    "\n",
    "- **PeerPressure**: Indica si el individuo percibe presión de su grupo social (sí/no).\n",
    "\n",
    "- **AcademicPerformance**: Rendimiento académico (alto/medio/bajo).\n",
    "\n",
    "- **PhysicalActivity**: Nivel de actividad física (regular/ocasional/nula).\n",
    "\n",
    "---\n",
    "\n",
    "**Observaciones, advertencias y descargos de responsabilidad**\n",
    "1. Este dataset es ficticio y debe utilizarse únicamente con fines educativos y de análisis.\n",
    "2. No debe emplearse para diagnósticos formales ni para tomar decisiones sobre políticas públicas sin una verificación adecuada.\n",
    "3. Los datos fueron organizados y publicados por [Waqi786](https://www.kaggle.com/waqi786) con el propósito de servir como base para prácticas y proyectos en ciencia de datos."
   ]
  }
 ],
 "metadata": {
  "language_info": {
   "name": "python"
  }
 },
 "nbformat": 4,
 "nbformat_minor": 2
}
