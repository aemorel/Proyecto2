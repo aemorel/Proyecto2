{
 "cells": [
  {
   "cell_type": "markdown",
   "metadata": {},
   "source": [
    "## **Sobre el Dataset: [Students Exam Scores](https://www.kaggle.com/datasets/desalegngeb/students-exam-scores)**\n",
    "\n",
    "Este dataset incluye las calificaciones de tres pruebas académicas de estudiantes en una escuela pública (ficticia) y una variedad de factores personales y socioeconómicos que pueden influir en dichos resultados.\n",
    "\n",
    "### **Contexto**\n",
    "\n",
    "El dataset **Students Exam Scores** se enfoca en analizar cómo diversos factores personales, socioeconómicos y educativos afectan el desempeño académico de los estudiantes en tres áreas fundamentales: matemáticas, lectura y escritura. La creación del dataset busca replicar escenarios realistas dentro de una escuela pública ficticia, proporcionando una herramienta educativa ideal para practicar análisis de datos y modelado predictivo.\n",
    "\n",
    "---\n",
    "\n",
    "## **Diccionario de Datos**\n",
    "\n",
    "- **Gender**: Género del estudiante (masculino/femenino).\n",
    "\n",
    "- **EthnicGroup**: Grupo étnico del estudiante (grupo A a E).\n",
    "\n",
    "- **ParentEduc**: Nivel educativo de los padres (desde \"algunos estudios secundarios\" hasta \"maestría\").\n",
    "\n",
    "- **LunchType**: Tipo de almuerzo escolar (estándar o gratuito/reducido).\n",
    "\n",
    "- **TestPrep**: Participación en un curso de preparación para los exámenes (completado o ninguno).\n",
    "\n",
    "- **ParentMaritalStatus**: Estado civil de los padres (casado/soltero/viudo/divorciado).\n",
    "\n",
    "- **PracticeSport**: Frecuencia con la que el estudiante practica deportes (nunca/a veces/regularmente).\n",
    "\n",
    "- **IsFirstChild**: Indica si el estudiante es el primer hijo de la familia (sí/no).\n",
    "\n",
    "- **NrSiblings**: Número de hermanos que tiene el estudiante (de 0 a 7).\n",
    "\n",
    "- **TransportMeans**: Medio de transporte para llegar a la escuela (autobús escolar/privado).\n",
    "\n",
    "- **WklyStudyHours**: Horas de estudio autónomo por semana (menos de 5 horas; entre 5 y 10 horas; más de 10 horas).\n",
    "\n",
    "- **MathScore**: Puntaje obtenido en la prueba de matemáticas (0-100).\n",
    "\n",
    "- **ReadingScore**: Puntaje obtenido en la prueba de lectura (0-100).\n",
    "\n",
    "- **WritingScore**: Puntaje obtenido en la prueba de escritura (0-100).\n",
    "\n",
    "---\n",
    "\n",
    "**Observaciones, advertencias y descargos de responsabilidad:**\n",
    "1. Este dataset es completamente ficticio y debe utilizarse únicamente con fines educativos.\n",
    "2. El creador original del generador de este dataset es el Sr. Royce Kimmons.\n",
    "3. Existen datasets similares disponibles en plataformas como Kaggle, pero este presenta dos diferencias importantes que lo hacen más interesante:\n",
    "   - Mayor cantidad de datos: Este dataset contiene más de 30,000 observaciones, en comparación con otros que tienen alrededor de 1,000.\n",
    "   - Conjunto de datos ampliado: Incluye más características (15 en lugar de 9) y valores faltantes, lo cual lo hace ideal para practicar tareas de limpieza y preprocesamiento de datos.\n",
    "\n"
   ]
  }
 ],
 "metadata": {
  "language_info": {
   "name": "python"
  }
 },
 "nbformat": 4,
 "nbformat_minor": 2
}
